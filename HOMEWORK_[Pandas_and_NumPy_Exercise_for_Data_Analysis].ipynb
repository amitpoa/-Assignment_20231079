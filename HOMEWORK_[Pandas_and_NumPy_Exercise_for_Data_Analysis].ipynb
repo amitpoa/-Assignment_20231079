{
  "cells": [
    {
      "cell_type": "markdown",
      "metadata": {
        "id": "view-in-github",
        "colab_type": "text"
      },
      "source": [
        "<a href=\"https://colab.research.google.com/github/amitpoa/-Assignment_20231079/blob/main/HOMEWORK_%5BPandas_and_NumPy_Exercise_for_Data_Analysis%5D.ipynb\" target=\"_parent\"><img src=\"https://colab.research.google.com/assets/colab-badge.svg\" alt=\"Open In Colab\"/></a>"
      ]
    },
    {
      "cell_type": "markdown",
      "source": [
        "# **NumPy Array Exercises**"
      ],
      "metadata": {
        "id": "ZqYL0mIZuH_M"
      }
    },
    {
      "cell_type": "code",
      "source": [
        "# Create a Numpy array filled with all zeros\n",
        "\n",
        "import numpy as np\n",
        "\n",
        "zeros_array = np.zeros((2,3), dtype = 'int')\n",
        "print (zeros_array)"
      ],
      "metadata": {
        "colab": {
          "base_uri": "https://localhost:8080/"
        },
        "id": "d2-8cayrsY34",
        "outputId": "612e7269-030f-4c86-9eca-83a81133dfa1"
      },
      "execution_count": null,
      "outputs": [
        {
          "output_type": "stream",
          "name": "stdout",
          "text": [
            "[[0 0 0]\n",
            " [0 0 0]]\n"
          ]
        }
      ]
    },
    {
      "cell_type": "code",
      "source": [
        "# Empty NumPy array\n",
        "\n",
        "empty_array = np.empty((3, 3)) \n",
        "print(empty_array)"
      ],
      "metadata": {
        "colab": {
          "base_uri": "https://localhost:8080/"
        },
        "id": "i57yrwKktERd",
        "outputId": "ffd14b59-1f97-4032-ca4a-bf9e2e317417"
      },
      "execution_count": null,
      "outputs": [
        {
          "output_type": "stream",
          "name": "stdout",
          "text": [
            "[[2.72827635e-316 0.00000000e+000 6.92463366e-310]\n",
            " [6.92463464e-310 6.92463466e-310 6.92463404e-310]\n",
            " [6.92463471e-310 6.92463472e-310 3.95252517e-322]]\n"
          ]
        }
      ]
    },
    {
      "cell_type": "code",
      "source": [
        "# Full NumPy array\n",
        "\n",
        "full_array = np.full((2, 3), 6)  \n",
        "print(full_array)"
      ],
      "metadata": {
        "colab": {
          "base_uri": "https://localhost:8080/"
        },
        "id": "CZ39BiNytKa-",
        "outputId": "0a4299bc-2a8a-4924-942e-d2d32ba3e760"
      },
      "execution_count": null,
      "outputs": [
        {
          "output_type": "stream",
          "name": "stdout",
          "text": [
            "[[6 6 6]\n",
            " [6 6 6]]\n"
          ]
        }
      ]
    },
    {
      "cell_type": "code",
      "source": [
        "# Numpy array filled with all ones\n",
        "\n",
        "ones_array = np.ones((2, 3), dtype = 'int')  \n",
        "print(ones_array)"
      ],
      "metadata": {
        "colab": {
          "base_uri": "https://localhost:8080/"
        },
        "id": "CUDFZkL9tQdX",
        "outputId": "bc87ad99-d0c6-45e6-903b-4b0af70c7313"
      },
      "execution_count": null,
      "outputs": [
        {
          "output_type": "stream",
          "name": "stdout",
          "text": [
            "[[1 1 1]\n",
            " [1 1 1]]\n"
          ]
        }
      ]
    },
    {
      "cell_type": "code",
      "source": [
        "# Combining a one and a two-dimensional NumPy Array\n",
        "\n",
        "one_dim_array = np.array([1, 2, 3])  \n",
        "two_dim_array = np.array([[4, 5, 6], [7, 8, 9]])\n",
        "\n",
        "arr_add = np.vstack((one_dim_array, two_dim_array))\n",
        "print (arr_add)"
      ],
      "metadata": {
        "colab": {
          "base_uri": "https://localhost:8080/"
        },
        "id": "Lag3UKBmtW6v",
        "outputId": "a928cbe7-1acd-4b97-d9c0-8389cd129473"
      },
      "execution_count": null,
      "outputs": [
        {
          "output_type": "stream",
          "name": "stdout",
          "text": [
            "[[1 2 3]\n",
            " [4 5 6]\n",
            " [7 8 9]]\n"
          ]
        }
      ]
    },
    {
      "cell_type": "code",
      "source": [
        "#Counts the number of non-zero values in the array\n",
        "\n",
        "array = np.array ([2, 3, 0, 5, 0, 3, 5, 4, 0, 8, 0])\n",
        "\n",
        "c = np.count_nonzero(array)\n",
        "print('Total numbers of non-zero values in array: ', c)"
      ],
      "metadata": {
        "colab": {
          "base_uri": "https://localhost:8080/"
        },
        "id": "RCBHk1uwtlye",
        "outputId": "057ebf5f-d9d8-4840-9561-ad630dd6bd50"
      },
      "execution_count": null,
      "outputs": [
        {
          "output_type": "stream",
          "name": "stdout",
          "text": [
            "Total numbers of non-zero values in array:  7\n"
          ]
        }
      ]
    }
  ],
  "metadata": {
    "colab": {
      "provenance": [],
      "authorship_tag": "ABX9TyN4O3Le1rZKYnmkx55H/SIh",
      "include_colab_link": true
    },
    "kernelspec": {
      "display_name": "Python 3",
      "name": "python3"
    },
    "language_info": {
      "name": "python"
    }
  },
  "nbformat": 4,
  "nbformat_minor": 0
}