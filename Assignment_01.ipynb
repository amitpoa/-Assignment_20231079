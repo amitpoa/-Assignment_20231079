{
  "cells": [
    {
      "cell_type": "markdown",
      "metadata": {
        "id": "view-in-github",
        "colab_type": "text"
      },
      "source": [
        "<a href=\"https://colab.research.google.com/github/amitpoa/-Assignment_20231079/blob/main/Assignment_01.ipynb\" target=\"_parent\"><img src=\"https://colab.research.google.com/assets/colab-badge.svg\" alt=\"Open In Colab\"/></a>"
      ]
    },
    {
      "cell_type": "markdown",
      "id": "29c4b4cf",
      "metadata": {
        "id": "29c4b4cf"
      },
      "source": [
        "# Python: Variables"
      ]
    },
    {
      "cell_type": "code",
      "execution_count": null,
      "id": "895d4189",
      "metadata": {
        "colab": {
          "base_uri": "https://localhost:8080/"
        },
        "id": "895d4189",
        "outputId": "f20761c3-2fb0-40a0-f7c4-09786249f27f"
      },
      "outputs": [
        {
          "output_type": "stream",
          "name": "stdout",
          "text": [
            "Enter a number: 5\n",
            "Check Data type of x: <class 'str'>\n",
            "Data type of x: <class 'str'>\n",
            "Data type of y: <class 'int'>\n",
            "Data type of z: <class 'float'>\n"
          ]
        }
      ],
      "source": [
        "#a. Use input( ) function to accept numbers from user as a value of a variable x.\n",
        "x = input(\"Enter a number: \")\n",
        "\n",
        "#b. Check the data type using type( ) function.\n",
        "print(\"Check Data type of x:\", type(x))\n",
        "\n",
        "#c. Also convert the data type to integer and assign to the variable y.\n",
        "y = int(x)\n",
        "\n",
        "#d. Convert the data type into float and assign to the variable z .\n",
        "z = float(x)\n",
        "\n",
        "#e. Display the data type of x, y, and z\n",
        "print(\"Data type of x:\", type(x))\n",
        "print(\"Data type of y:\", type(y))\n",
        "print(\"Data type of z:\", type(z))"
      ]
    },
    {
      "cell_type": "markdown",
      "id": "3cec6b88",
      "metadata": {
        "id": "3cec6b88"
      },
      "source": [
        "# Strings in Python"
      ]
    },
    {
      "cell_type": "code",
      "execution_count": null,
      "id": "cece1662",
      "metadata": {
        "colab": {
          "base_uri": "https://localhost:8080/"
        },
        "id": "cece1662",
        "outputId": "e3c876b9-b0eb-43c0-d096-1fb1a3a4a14a"
      },
      "outputs": [
        {
          "name": "stdout",
          "output_type": "stream",
          "text": [
            "Enter a text:hello world\n"
          ]
        },
        {
          "output_type": "execute_result",
          "data": {
            "text/plain": [
              "11"
            ]
          },
          "metadata": {},
          "execution_count": 2
        }
      ],
      "source": [
        "#a. Length of a string\n",
        "\n",
        "text= input('Enter a text:')\n",
        "len(text)\n"
      ]
    },
    {
      "cell_type": "code",
      "execution_count": null,
      "id": "e1697fd9",
      "metadata": {
        "colab": {
          "base_uri": "https://localhost:8080/"
        },
        "id": "e1697fd9",
        "outputId": "7aec7520-df8f-446a-ee33-0b74209d43fd"
      },
      "outputs": [
        {
          "output_type": "stream",
          "name": "stdout",
          "text": [
            "Enter a name: amit paul\n",
            "Number of characters in the string: 8\n"
          ]
        }
      ],
      "source": [
        "#b Count the number of characters in a string.\n",
        "\n",
        "text= input('Enter a name: ')\n",
        "count= len(text.replace(\" \", \"\"))\n",
        "print (\"Number of characters in the string:\", count)"
      ]
    },
    {
      "cell_type": "code",
      "execution_count": null,
      "id": "8cb00165",
      "metadata": {
        "colab": {
          "base_uri": "https://localhost:8080/"
        },
        "id": "8cb00165",
        "outputId": "8284e6f5-5a02-408b-ca28-c73e8ee3c8dc"
      },
      "outputs": [
        {
          "output_type": "stream",
          "name": "stdout",
          "text": [
            "Enter a string: helloo world\n",
            "he  oo wor d\n",
            "he loo world\n"
          ]
        }
      ],
      "source": [
        "#c Remove the k'th index character from a string.\n",
        "\n",
        "text= input(\"Enter a string: \")\n",
        "\n",
        "print (text.replace(\"l\", \" \")) # when remove a specfic all chatracter  from the str\n",
        "\n",
        "print (text.replace(\"l\", \" \",1)) # when remove a specfic chatracter  from the str\n",
        "\n",
        "# Initializing String\n",
        "#test_str = 'hello world'\n",
        "\n",
        "# Removing char at pos 3\n",
        "# using slice + concatenation\n",
        "#new_str = test_str[:8] + test_str[9:]\n",
        "\n",
        "# Printing string after removal\n",
        "# removes ele. at 3rd index\n",
        "#print (\"The string after removal of kth character : \" + new_str)\n"
      ]
    },
    {
      "cell_type": "code",
      "execution_count": null,
      "id": "32766618",
      "metadata": {
        "colab": {
          "base_uri": "https://localhost:8080/"
        },
        "id": "32766618",
        "outputId": "821ef099-6599-4def-cf3e-25f531683166"
      },
      "outputs": [
        {
          "output_type": "stream",
          "name": "stdout",
          "text": [
            "hlo\n"
          ]
        }
      ],
      "source": [
        "#d Remove the characters which have odd index values\n",
        "\n",
        "s='hello'\n",
        "print(s[::2])"
      ]
    },
    {
      "cell_type": "code",
      "execution_count": null,
      "id": "53e7f2da",
      "metadata": {
        "colab": {
          "base_uri": "https://localhost:8080/"
        },
        "id": "53e7f2da",
        "outputId": "0295d12d-5378-4ac8-cf56-1a106d551ab4"
      },
      "outputs": [
        {
          "output_type": "stream",
          "name": "stdout",
          "text": [
            "Enter text: amit paul\n",
            "Upper case: AMIT PAUL\n",
            "Lower case: amit paul\n"
          ]
        }
      ],
      "source": [
        "#e Takes input from the user and displays that input back in upper and lower cases.\n",
        "\n",
        "user_input = input(\"Enter text: \")\n",
        "print(\"Upper case:\", user_input.upper())\n",
        "print(\"Lower case:\", user_input.lower())"
      ]
    },
    {
      "cell_type": "code",
      "execution_count": null,
      "id": "c809cbb3",
      "metadata": {
        "colab": {
          "base_uri": "https://localhost:8080/"
        },
        "id": "c809cbb3",
        "outputId": "09d3050c-8af6-4b04-d87b-ac7b20c7ee1f"
      },
      "outputs": [
        {
          "output_type": "stream",
          "name": "stdout",
          "text": [
            "Enter a string: amit\n",
            "Sorted string: aimt\n"
          ]
        }
      ],
      "source": [
        "#f sort a string\n",
        "\n",
        "string = input(\"Enter a string: \")\n",
        "sorted_string = ''.join(sorted(string))\n",
        "print(\"Sorted string:\", sorted_string)"
      ]
    },
    {
      "cell_type": "code",
      "execution_count": null,
      "id": "271cb694",
      "metadata": {
        "colab": {
          "base_uri": "https://localhost:8080/"
        },
        "id": "271cb694",
        "outputId": "06981c3a-ea0e-4fb3-99ac-ff4e29502dde"
      },
      "outputs": [
        {
          "output_type": "stream",
          "name": "stdout",
          "text": [
            "Enter a string: amit\n",
            "Reversed string: tima\n"
          ]
        }
      ],
      "source": [
        "#g reverse a string.\n",
        "\n",
        "string = input(\"Enter a string: \")\n",
        "reversed_string = string[::-1]\n",
        "print(\"Reversed string:\", reversed_string)\n"
      ]
    },
    {
      "cell_type": "code",
      "execution_count": null,
      "id": "eabecdec",
      "metadata": {
        "colab": {
          "base_uri": "https://localhost:8080/"
        },
        "id": "eabecdec",
        "outputId": "24c34ce8-4cef-42cc-e228-548341b94cef"
      },
      "outputs": [
        {
          "output_type": "stream",
          "name": "stdout",
          "text": [
            "Enter a string: amit\n",
            "List: ['a', 'm', 'i', 't']\n"
          ]
        }
      ],
      "source": [
        "#h convert a given string into a list.\n",
        "\n",
        "string = input(\"Enter a string: \")\n",
        "string_list = list(string)\n",
        "print(\"List:\", string_list)"
      ]
    },
    {
      "cell_type": "markdown",
      "id": "6bd4f5c5",
      "metadata": {
        "id": "6bd4f5c5"
      },
      "source": [
        "# Python: Lists"
      ]
    },
    {
      "cell_type": "code",
      "execution_count": null,
      "id": "bce6f348",
      "metadata": {
        "colab": {
          "base_uri": "https://localhost:8080/"
        },
        "id": "bce6f348",
        "outputId": "212fdc53-c3d9-4c12-9e15-0a0abab88232"
      },
      "outputs": [
        {
          "output_type": "stream",
          "name": "stdout",
          "text": [
            "Sum of the list items: 34\n"
          ]
        }
      ],
      "source": [
        "#a Write a Python program to sum (or product) all the items in a list\n",
        "\n",
        "lst = [3,11,5,9,6]\n",
        "total = sum(lst)\n",
        "print ('Sum of the list items:', total)"
      ]
    },
    {
      "cell_type": "code",
      "execution_count": null,
      "id": "b1bc9a5c",
      "metadata": {
        "id": "b1bc9a5c",
        "colab": {
          "base_uri": "https://localhost:8080/"
        },
        "outputId": "b152de96-9e14-4f06-b331-343904ce92a5"
      },
      "outputs": [
        {
          "output_type": "stream",
          "name": "stdout",
          "text": [
            "Largest number in the list: 13\n",
            "Smallest number in the list: 1\n"
          ]
        }
      ],
      "source": [
        "#b Write a Python program to get the largest/smallest number from a list\n",
        "\n",
        "def get_largest(lst):\n",
        "    largest = max(lst)\n",
        "    return largest\n",
        "\n",
        "def get_smallest(lst):\n",
        "    smallest = min(lst)\n",
        "    return smallest\n",
        "\n",
        "my_list = [13, 8, 3 ,1 ,6 ,9, 2]\n",
        "print(\"Largest number in the list:\", get_largest(my_list))\n",
        "print(\"Smallest number in the list:\", get_smallest(my_list))\n"
      ]
    },
    {
      "cell_type": "code",
      "execution_count": null,
      "id": "6ef84be0",
      "metadata": {
        "id": "6ef84be0",
        "colab": {
          "base_uri": "https://localhost:8080/"
        },
        "outputId": "5badc8c3-29f8-4844-cb12-c32108b46202"
      },
      "outputs": [
        {
          "output_type": "stream",
          "name": "stdout",
          "text": [
            "Numbers after removing even numbers: [1, 3, 5]\n"
          ]
        }
      ],
      "source": [
        "#c  a specified list after removing even numbers from it\n",
        "\n",
        "def remove_even(lst):\n",
        "    odd_numbers = [num for num in lst if num % 2 != 0]\n",
        "    return odd_numbers\n",
        "\n",
        "my_list = [1, 2, 3, 4, 5]\n",
        "result = remove_even(my_list)\n",
        "print(\"Numbers after removing even numbers:\", result)\n"
      ]
    },
    {
      "cell_type": "code",
      "execution_count": null,
      "id": "91f95853",
      "metadata": {
        "id": "91f95853",
        "colab": {
          "base_uri": "https://localhost:8080/"
        },
        "outputId": "38d9eca8-5aa3-43c6-ec3d-28a86d451b43"
      },
      "outputs": [
        {
          "output_type": "stream",
          "name": "stdout",
          "text": [
            "Odd numbers in the list: [1, 3, 5]\n"
          ]
        }
      ],
      "source": [
        "#d select the odd number of a list\n",
        "\n",
        "\n",
        "def select_odd(lst):\n",
        "    odd_numbers = [num for num in lst if num % 2 != 0]\n",
        "    return odd_numbers\n",
        "\n",
        "my_list = [1, 2, 3, 4, 5, 6]\n",
        "result = select_odd(my_list)\n",
        "print(\"Odd numbers in the list:\", result)"
      ]
    },
    {
      "cell_type": "code",
      "execution_count": null,
      "id": "bfeebc93",
      "metadata": {
        "id": "bfeebc93",
        "colab": {
          "base_uri": "https://localhost:8080/"
        },
        "outputId": "3ac09c9a-b7d1-4a71-9d7c-26fa39d11291"
      },
      "outputs": [
        {
          "output_type": "stream",
          "name": "stdout",
          "text": [
            "amit\n"
          ]
        }
      ],
      "source": [
        "#e convert a list of characters into a string\n",
        "\n",
        "lst = ['a','m','i','t']\n",
        "string = ''.join(lst)\n",
        "print(string)"
      ]
    },
    {
      "cell_type": "code",
      "execution_count": null,
      "id": "f400edd7",
      "metadata": {
        "id": "f400edd7",
        "colab": {
          "base_uri": "https://localhost:8080/"
        },
        "outputId": "9922ba62-b057-4b1b-9e53-c2270182fafa"
      },
      "outputs": [
        {
          "output_type": "stream",
          "name": "stdout",
          "text": [
            "4\n"
          ]
        }
      ],
      "source": [
        "#f find the index of an item in a specified list\n",
        "\n",
        "my_list = [1,2,3,4,5,6]\n",
        "print (my_list.index(5))"
      ]
    },
    {
      "cell_type": "code",
      "execution_count": null,
      "id": "cc828c41",
      "metadata": {
        "id": "cc828c41",
        "colab": {
          "base_uri": "https://localhost:8080/"
        },
        "outputId": "b751e348-e025-49f9-dd7a-db4b86e681d3"
      },
      "outputs": [
        {
          "output_type": "stream",
          "name": "stdout",
          "text": [
            "[1, 2, 3, 4, 5, 6, 7, 8]\n"
          ]
        }
      ],
      "source": [
        "#g add a list to the second list\n",
        "\n",
        "list1 = [1,2,3,4,5]\n",
        "list2 = [6,7,8]\n",
        "list1.extend(list2 )\n",
        "print (list1)"
      ]
    },
    {
      "cell_type": "code",
      "execution_count": null,
      "id": "2ede5680",
      "metadata": {
        "id": "2ede5680",
        "colab": {
          "base_uri": "https://localhost:8080/"
        },
        "outputId": "b29f6c5b-cc64-4cc8-d9cc-5a8c2f974ced"
      },
      "outputs": [
        {
          "output_type": "stream",
          "name": "stdout",
          "text": [
            "Unique values in the list: [1, 2, 3, 4]\n",
            "Count of unique values: 4\n"
          ]
        }
      ],
      "source": [
        "#h get unique values from a list and count unique values inside a list\n",
        "\n",
        "\n",
        "def get_unique(lst):\n",
        "    unique_values = list(set(lst))\n",
        "    return unique_values\n",
        "\n",
        "def count_unique(lst):\n",
        "    unique_count = len(set(lst))\n",
        "    return unique_count\n",
        "\n",
        "my_list = [1, 2, 2, 3, 3, 3, 4, 4, 4, 4]\n",
        "unique_values = get_unique(my_list)\n",
        "unique_count = count_unique(my_list)\n",
        "print(\"Unique values in the list:\", unique_values)\n",
        "print(\"Count of unique values:\", unique_count)\n"
      ]
    },
    {
      "cell_type": "markdown",
      "id": "a124379c",
      "metadata": {
        "id": "a124379c"
      },
      "source": [
        "# Python : Dictionary\n"
      ]
    },
    {
      "cell_type": "code",
      "execution_count": null,
      "id": "6066ca3d",
      "metadata": {
        "id": "6066ca3d",
        "colab": {
          "base_uri": "https://localhost:8080/"
        },
        "outputId": "6fded597-5cfe-4fa9-dbbd-1f747398a4ee"
      },
      "outputs": [
        {
          "output_type": "stream",
          "name": "stdout",
          "text": [
            "Dictionary: {'names': ['Mango', 'Lemon'], 'color': ['yellow', 'green'], 'taste': ['sweet', 'sour']}\n",
            "Updated Dictionary: {'names': ['Mango', 'Lemon', 'Apple'], 'color': ['yellow', 'green'], 'taste': ['sweet', 'sour']}\n"
          ]
        }
      ],
      "source": [
        "#a Create a dictionary named fruit\n",
        "fruit = {\n",
        "    'names': ['Mango', 'Lemon'],\n",
        "    'color': ['yellow', 'green'],\n",
        "    'taste': ['sweet', 'sour']\n",
        "}\n",
        "\n",
        "# Display the dictionary\n",
        "print(\"Dictionary:\", fruit)\n",
        "\n",
        "# Add a new value, Apple, to the names key\n",
        "fruit['names'].append('Apple')\n",
        "\n",
        "\n",
        "# Display the updated dictionary\n",
        "print(\"Updated Dictionary:\", fruit)\n"
      ]
    },
    {
      "cell_type": "code",
      "execution_count": null,
      "id": "1f6fd0ba",
      "metadata": {
        "id": "1f6fd0ba",
        "colab": {
          "base_uri": "https://localhost:8080/"
        },
        "outputId": "22169bf7-4289-4995-cfb6-ec0703a8d3d6"
      },
      "outputs": [
        {
          "output_type": "stream",
          "name": "stdout",
          "text": [
            "Updated Dictionary: {'name': 'X', 'age': 25, 'gender': 'Male'}\n"
          ]
        }
      ],
      "source": [
        "#b add a key to a dictionary\n",
        "\n",
        "my_dict = {'name': 'X', 'age': 25}\n",
        "my_dict['gender'] = 'Male'\n",
        "print(\"Updated Dictionary:\", my_dict)"
      ]
    },
    {
      "cell_type": "code",
      "execution_count": null,
      "id": "508b834b",
      "metadata": {
        "id": "508b834b",
        "colab": {
          "base_uri": "https://localhost:8080/"
        },
        "outputId": "00f4919c-9ff6-48ec-e0e1-f33f9254f961"
      },
      "outputs": [
        {
          "output_type": "stream",
          "name": "stdout",
          "text": [
            "name exists in the dictionary.\n"
          ]
        }
      ],
      "source": [
        "#c check whether a given key already exists in a dictionary.\n",
        "\n",
        "my_dict = {'name': 'X', 'age': 25}\n",
        "\n",
        "key = 'name'\n",
        "if key in my_dict:\n",
        "    print(key, \"exists in the dictionary.\")\n",
        "else:\n",
        "    print(key, \"does not exist in the dictionary.\")\n"
      ]
    },
    {
      "cell_type": "code",
      "execution_count": null,
      "id": "bc422165",
      "metadata": {
        "id": "bc422165",
        "colab": {
          "base_uri": "https://localhost:8080/"
        },
        "outputId": "8135569c-8e83-4939-f7c1-259dd6cfa932"
      },
      "outputs": [
        {
          "output_type": "stream",
          "name": "stdout",
          "text": [
            "age\n"
          ]
        }
      ],
      "source": [
        "#d Access dictionary key’s element by index.\n",
        "\n",
        "my_dict = {'name': 'X', 'age': 25}\n",
        "keys_list = list(my_dict)\n",
        "key = keys_list[1]\n",
        "print(key)"
      ]
    },
    {
      "cell_type": "code",
      "execution_count": null,
      "id": "e13d873c",
      "metadata": {
        "id": "e13d873c",
        "colab": {
          "base_uri": "https://localhost:8080/"
        },
        "outputId": "841bf550-c64f-42b0-ad1a-c9aa7107cd12"
      },
      "outputs": [
        {
          "output_type": "stream",
          "name": "stdout",
          "text": [
            "Keys and Values:\n",
            "name : John\n",
            "age : 25\n"
          ]
        }
      ],
      "source": [
        "#e. Write a Python program to iterate over dictionaries using for loops\n",
        "\n",
        "my_dict = {'name': 'John', 'age': 25}\n",
        "\n",
        "print(\"Keys and Values:\")\n",
        "for key, value in my_dict.items():\n",
        "    print(key, \":\", value)\n"
      ]
    },
    {
      "cell_type": "code",
      "execution_count": null,
      "id": "2b5db4f7",
      "metadata": {
        "id": "2b5db4f7",
        "colab": {
          "base_uri": "https://localhost:8080/"
        },
        "outputId": "40da7a09-197d-472e-80b7-4472f1f8b527"
      },
      "outputs": [
        {
          "output_type": "stream",
          "name": "stdout",
          "text": [
            "Square dictionary:  {1: 1, 2: 4, 3: 9, 4: 16, 5: 25}\n"
          ]
        }
      ],
      "source": [
        "#f. dictionary where the keys are numbers between 1 and n (both included) and the values are square of keys \n",
        "\n",
        "d=dict()\n",
        "for x in range(1,5+1):\n",
        "    d[x]=x**2\n",
        "print('Square dictionary: ', d) "
      ]
    },
    {
      "cell_type": "code",
      "execution_count": null,
      "id": "cca515fb",
      "metadata": {
        "id": "cca515fb",
        "colab": {
          "base_uri": "https://localhost:8080/"
        },
        "outputId": "8b5e3820-9e7d-4e59-dc28-91b5dd55065e"
      },
      "outputs": [
        {
          "output_type": "stream",
          "name": "stdout",
          "text": [
            "New Dictionary: {'name': None, 'age': None}\n"
          ]
        }
      ],
      "source": [
        "#g Create a dictionary by extracting the keys from a given dictionary\n",
        "\n",
        "my_dict = {'name': 'X', 'age': 25}\n",
        "\n",
        "new_dict = dict.fromkeys(my_dict.keys())\n",
        "print(\"New Dictionary:\", new_dict) "
      ]
    },
    {
      "cell_type": "code",
      "execution_count": null,
      "id": "0e364e4b",
      "metadata": {
        "id": "0e364e4b",
        "colab": {
          "base_uri": "https://localhost:8080/"
        },
        "outputId": "49fb25f0-be4e-4f95-aeec-4f60eaa0da91"
      },
      "outputs": [
        {
          "output_type": "stream",
          "name": "stdout",
          "text": [
            "Updated Dictionary: {'age': 25, 'fist_name': 'X'}\n"
          ]
        }
      ],
      "source": [
        "#h. Rename key of a dictionary\n",
        "\n",
        "my_dict = {'name': 'X', 'age': 25}\n",
        "\n",
        "my_dict['fist_name'] = my_dict.pop('name')\n",
        "print(\"Updated Dictionary:\", my_dict)"
      ]
    },
    {
      "cell_type": "code",
      "execution_count": null,
      "id": "46a626fb",
      "metadata": {
        "id": "46a626fb",
        "colab": {
          "base_uri": "https://localhost:8080/"
        },
        "outputId": "3a89bf00-c49b-45ae-8823-66d0137a56a5"
      },
      "outputs": [
        {
          "output_type": "stream",
          "name": "stdout",
          "text": [
            "dict_keys(['name', 'age'])\n"
          ]
        }
      ],
      "source": [
        "#i.print only keys of a dictionary\n",
        "\n",
        "my_dict = {'name': 'X', 'age': 25}\n",
        "print (my_dict.keys())"
      ]
    },
    {
      "cell_type": "code",
      "execution_count": null,
      "id": "2252c35a",
      "metadata": {
        "id": "2252c35a",
        "colab": {
          "base_uri": "https://localhost:8080/"
        },
        "outputId": "0c47b8fe-6b27-47dd-b3a8-c691dfb85110"
      },
      "outputs": [
        {
          "output_type": "stream",
          "name": "stdout",
          "text": [
            "dict_values(['X', 25])\n"
          ]
        }
      ],
      "source": [
        "#j. print values of dictionary\n",
        "\n",
        "my_dict = {'name': 'X', 'age': 25}\n",
        "print (my_dict.values())"
      ]
    },
    {
      "cell_type": "markdown",
      "id": "f292b14b",
      "metadata": {
        "id": "f292b14b"
      },
      "source": [
        "# Python: Loops"
      ]
    },
    {
      "cell_type": "code",
      "execution_count": null,
      "id": "37bff729",
      "metadata": {
        "id": "37bff729",
        "colab": {
          "base_uri": "https://localhost:8080/"
        },
        "outputId": "9f952de4-0113-4046-fb5d-809ff1b63d20"
      },
      "outputs": [
        {
          "output_type": "stream",
          "name": "stdout",
          "text": [
            "1\n",
            "2\n",
            "3\n",
            "4\n",
            "5\n",
            "6\n",
            "7\n",
            "8\n",
            "9\n",
            "10\n"
          ]
        }
      ],
      "source": [
        "#a. Print First 10 natural numbers using while loop\n",
        "\n",
        "n =1\n",
        "\n",
        "while n<=10:\n",
        "    print (n)\n",
        "    n = n+1"
      ]
    },
    {
      "cell_type": "code",
      "execution_count": null,
      "id": "f1f27ff1",
      "metadata": {
        "id": "f1f27ff1",
        "colab": {
          "base_uri": "https://localhost:8080/"
        },
        "outputId": "75b8cf9b-4ebb-4c52-bf56-83554e77ece6"
      },
      "outputs": [
        {
          "output_type": "stream",
          "name": "stdout",
          "text": [
            "Enter a number: 5\n",
            "5 * 1 = 5\n",
            "5 * 2 = 10\n",
            "5 * 3 = 15\n",
            "5 * 4 = 20\n",
            "5 * 5 = 25\n",
            "5 * 6 = 30\n",
            "5 * 7 = 35\n",
            "5 * 8 = 40\n",
            "5 * 9 = 45\n",
            "5 * 10 = 50\n"
          ]
        }
      ],
      "source": [
        "#b.  Print the multiplication table of a given number\n",
        "\n",
        "num = int(input('Enter a number: '))\n",
        "for i in range(1,11):\n",
        "    print(num, '*', i, \"=\",num * i)"
      ]
    },
    {
      "cell_type": "code",
      "execution_count": null,
      "id": "9afacfe9",
      "metadata": {
        "id": "9afacfe9",
        "colab": {
          "base_uri": "https://localhost:8080/"
        },
        "outputId": "091b68ee-3c81-4328-ec67-27d03994623a"
      },
      "outputs": [
        {
          "output_type": "stream",
          "name": "stdout",
          "text": [
            "1\n",
            "2\n",
            "3\n",
            "4\n",
            "5\n"
          ]
        }
      ],
      "source": [
        "#c. Display numbers from a list using loop\n",
        "\n",
        "numbers = [1, 2, 3, 4, 5]\n",
        "for num in numbers:\n",
        "    print(num)"
      ]
    },
    {
      "cell_type": "code",
      "execution_count": null,
      "id": "c88c78d1",
      "metadata": {
        "id": "c88c78d1",
        "colab": {
          "base_uri": "https://localhost:8080/"
        },
        "outputId": "24ad644e-f124-46eb-ad00-61766fd3315d"
      },
      "outputs": [
        {
          "output_type": "stream",
          "name": "stdout",
          "text": [
            "5\n",
            "4\n",
            "3\n",
            "2\n",
            "1\n"
          ]
        }
      ],
      "source": [
        "#d. Print list in reverse order using a loop\n",
        "\n",
        "my_list = [1, 2, 3, 4, 5]\n",
        "for i in range(len(my_list) - 1, -1, -1):\n",
        "    print(my_list[i])\n"
      ]
    },
    {
      "cell_type": "code",
      "execution_count": null,
      "id": "5f052295",
      "metadata": {
        "id": "5f052295",
        "colab": {
          "base_uri": "https://localhost:8080/"
        },
        "outputId": "7e361c64-d058-40f4-c368-bb4468101187"
      },
      "outputs": [
        {
          "output_type": "stream",
          "name": "stdout",
          "text": [
            "-10\n",
            "-9\n",
            "-8\n",
            "-7\n",
            "-6\n",
            "-5\n",
            "-4\n",
            "-3\n",
            "-2\n",
            "-1\n"
          ]
        }
      ],
      "source": [
        "#e. Display numbers from -10 to -1 using for loop\n",
        "\n",
        "for num in range(-10, 0):\n",
        "    print(num)"
      ]
    },
    {
      "cell_type": "code",
      "execution_count": null,
      "id": "e874e04a",
      "metadata": {
        "id": "e874e04a",
        "colab": {
          "base_uri": "https://localhost:8080/"
        },
        "outputId": "8bf8b867-543d-40bd-8e36-dd884f00e5b3"
      },
      "outputs": [
        {
          "output_type": "stream",
          "name": "stdout",
          "text": [
            "6\n",
            "Factorial of 6 is 720\n"
          ]
        }
      ],
      "source": [
        "#f. Find the factorial of a given number\n",
        "\n",
        "num = int(input())\n",
        "factorial = 1\n",
        "for i in range(1, num + 1):\n",
        "    factorial *= i\n",
        "print(\"Factorial of\", num, \"is\", factorial)\n"
      ]
    },
    {
      "cell_type": "code",
      "execution_count": null,
      "id": "6ee55764",
      "metadata": {
        "id": "6ee55764",
        "colab": {
          "base_uri": "https://localhost:8080/"
        },
        "outputId": "7739f431-04a6-4693-bfe8-a816ecc5d11a"
      },
      "outputs": [
        {
          "output_type": "stream",
          "name": "stdout",
          "text": [
            "b\n",
            "d\n",
            "f\n"
          ]
        }
      ],
      "source": [
        "#g. Use a loop to display elements from a given list present at odd index positions\n",
        "\n",
        "my_list = ['a', 'b', 'c', 'd', 'e', 'f']\n",
        "for i in range(1, len(my_list), 2):\n",
        "    print(my_list[i])\n"
      ]
    },
    {
      "cell_type": "code",
      "execution_count": null,
      "id": "6504cdeb",
      "metadata": {
        "id": "6504cdeb",
        "colab": {
          "base_uri": "https://localhost:8080/"
        },
        "outputId": "ee7afa91-f756-4a69-83ba-86190ef84b67"
      },
      "outputs": [
        {
          "output_type": "stream",
          "name": "stdout",
          "text": [
            "4\n",
            "Cube of 1 is 1\n",
            "Cube of 2 is 8\n",
            "Cube of 3 is 27\n",
            "Cube of 4 is 64\n"
          ]
        }
      ],
      "source": [
        "#h. cube of all numbers from 1 to a given number\n",
        "\n",
        "num = int(input())\n",
        "for i in range(1, num + 1):\n",
        "    cube = i ** 3\n",
        "    print(\"Cube of\", i, \"is\", cube)"
      ]
    }
  ],
  "metadata": {
    "kernelspec": {
      "display_name": "Python 3",
      "language": "python",
      "name": "python3"
    },
    "language_info": {
      "codemirror_mode": {
        "name": "ipython",
        "version": 3
      },
      "file_extension": ".py",
      "mimetype": "text/x-python",
      "name": "python",
      "nbconvert_exporter": "python",
      "pygments_lexer": "ipython3",
      "version": "3.10.9"
    },
    "colab": {
      "provenance": [],
      "include_colab_link": true
    }
  },
  "nbformat": 4,
  "nbformat_minor": 5
}